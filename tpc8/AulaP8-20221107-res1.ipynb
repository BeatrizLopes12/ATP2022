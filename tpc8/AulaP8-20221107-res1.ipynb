{
 "cells": [
  {
   "cell_type": "markdown",
   "id": "4193a91b",
   "metadata": {},
   "source": [
    "### TPC8: Teste de aferição\n",
    "\n",
    "Resolva os problemas apresentados a seguir."
   ]
  },
  {
   "cell_type": "markdown",
   "id": "4e758271",
   "metadata": {},
   "source": [
    "### tpc1.a) Recebe duas strings, _s1_ e _s2_, e retorna o comprimento da substring inicial de _s1_ que não contem nenhum caráter de _s2_:"
   ]
  },
  {
   "cell_type": "code",
   "execution_count": null,
   "id": "4ae7f5d0",
   "metadata": {},
   "outputs": [],
   "source": [
    "def inicDiferente(s1, s2):\n",
    "    res= len(s1.split())\n",
    "\n",
    "    return res\n",
    "inicDiferente(\"Está um bom dia...\", \"Hoje é um dia alegre.\")\n",
    "# resultado esperado: 4"
   ]
  },
  {
   "cell_type": "markdown",
   "id": "28cb3dc4",
   "metadata": {},
   "source": [
    "### tpc1.b) Recebe um parâmetro _n_ e lê _n_ números inteiros; no fim retorna quantos dos números lidos são superiores à média dos números lidos:"
   ]
  },
  {
   "cell_type": "code",
   "execution_count": null,
   "id": "4458c7bc",
   "metadata": {},
   "outputs": [],
   "source": [
    "def acimaMedia(n):\n",
    "    media = 0\n",
    "    lista=[]\n",
    "    soma=0\n",
    "    numerosmaiores=0\n",
    "    numeros= int(input(\"quantos numeros quer introduzir: \"))\n",
    "    for i in range (0, numeros):\n",
    "        n=float(input(\"insira um numero: \"))\n",
    "        lista.append(n)\n",
    "        soma= soma+ n\n",
    "    media= soma/n\n",
    "    \n",
    "    for j in lista:\n",
    "        \n",
    "        if j > media:\n",
    "            numerosmaiores=numerosmaiores + 1 \n",
    "    \n",
    "    return numerosmaiores\n",
    "\n",
    "acimaMedia(5)"
   ]
  },
  {
   "cell_type": "markdown",
   "id": "e6db31d7",
   "metadata": {},
   "source": [
    "### tpc1.c) Faz o merge de duas listas ordenadas, retornando uma lista ordenada com os elementos das duas listas (__não podes usar nenhuma função de ordenação do Python__):"
   ]
  },
  {
   "cell_type": "code",
   "execution_count": null,
   "id": "2b5ad344",
   "metadata": {},
   "outputs": [],
   "source": [
    "def merge(l1, l2):\n",
    "\n",
    "         l1= l1+ l2\n",
    "         n = len(l1)\n",
    "         for i in range(n - 1): \n",
    "                for j in range(i + 1, n):\n",
    "                        if l1[j] < l1[i]:\n",
    "                                 temp = l1[i]\n",
    "                                 l1[i] = l1[j]\n",
    "                                 l1[j] = temp \n",
    "           \n",
    "         return l1\n",
    "       \n",
    "merge([1,2,6,9], [3,4,7,12])\n",
    "# Resultado esperado: [1,2,3,4,6,7,9,12]"
   ]
  },
  {
   "cell_type": "markdown",
   "id": "6698b337",
   "metadata": {},
   "source": [
    "### tpc1.d) Recebe o nome de dois ficheiros de texto, _f1_ e _f2_, e indica se são iguais (__True__) no seu conteúdo ou se são diferentes (__False__):"
   ]
  },
  {
   "cell_type": "code",
   "execution_count": null,
   "id": "54cef309",
   "metadata": {},
   "outputs": [],
   "source": [
    "def figuais(f1, f2):\n",
    "     lista=[]\n",
    "     lista2=[]\n",
    "     ficheiro = open(\"f1.txt\", \"r\")\n",
    "     ficheiro2= open(\"f2.txt\", \"r\")\n",
    "     for palavras in ficheiro.read().split(\"\\n\"):\n",
    "         lista.append (palavras)\n",
    "    \n",
    "     for palavras in ficheiro2.read().split(\"\\n\"):\n",
    "         lista2.append (palavras)\n",
    " \n",
    "     ficheiro.close()\n",
    "     ficheiro2.close()\n",
    "\n",
    "     if lista==lista2:\n",
    "         return True\n",
    "     else:\n",
    "         return False\n",
    "\n",
    "   \n",
    "\n",
    "#print(figuais(\"texto1.txt\", \"texto1.txt\"))\n",
    "#print(figuais(\"texto1.txt\", \"texto2.txt\"))"
   ]
  },
  {
   "cell_type": "markdown",
   "id": "7cd572fc",
   "metadata": {},
   "source": [
    "## Questão 2: Gestão de uma Cinemateca\n",
    "\n",
    "Analise as seguintes estruturas de dados que materializam o modelo de uma cinemateca:"
   ]
  },
  {
   "cell_type": "code",
   "execution_count": null,
   "id": "76e9e621",
   "metadata": {},
   "outputs": [],
   "source": [
    "# Cinemateca = [Filme]\n",
    "# Pub = (Título, Ano, Elenco, Géneros)\n",
    "# Título = String\n",
    "# Ano = Int\n",
    "# Elenco = [Ator]\n",
    "# Ator = String\n",
    "# Géneros = [Género]\n",
    "# Género = String\n",
    "Filme1 = (\"Meet the Parents\", 2000, [\"Ben Stiller\",\"Robert De Niro\",\n",
    "      \"Blythe Danner\",\"Teri Polo\",\"Owen Wilson\"], [\"Comedy\", \"Drama\"])\n",
    "Filme2 = (\"Men of Honor\", 2000, [\"Robert De Niro\",\"Cuba Gooding, Jr.\",\n",
    "      \"Charlize Theron\"], [\"Biography\", \"Drama\", \"Thriller\"])\n",
    "Filme3 = (\"Analyze That\", 2002, [\"Robert De Niro\",\"Billy Crystal\",\n",
    "      \"Lisa Kudrow\"], [\"Comedy\"])\n",
    "CineUM = [Filme1, Filme2, Filme3]"
   ]
  },
  {
   "cell_type": "markdown",
   "id": "89afc758",
   "metadata": {},
   "source": [
    " e especifique funções que calculem o que se descreve a seguir:"
   ]
  },
  {
   "cell_type": "markdown",
   "id": "2156a0c8",
   "metadata": {},
   "source": [
    "### tpc2.a)  Devolve uma lista dos atores participantes nos filmes armazenados, ordenada alfabeticamente e sem repetições:"
   ]
  },
  {
   "cell_type": "code",
   "execution_count": null,
   "id": "8a5a2a41",
   "metadata": {},
   "outputs": [],
   "source": [
    "def atores(cinemateca):\n",
    "    lista1= Filme1[2]\n",
    "    lista2= Filme2[2]\n",
    "    lista3= Filme3[2]\n",
    "    lista= lista1 + lista2 + lista3\n",
    "    \n",
    "    for i in range(0,len(lista)):\n",
    "        for j in range(0, len(lista)):\n",
    "            if lista[j] > lista[i]:\n",
    "                temp= lista[i]\n",
    "                lista[i]= lista[j]\n",
    "                lista[j]= temp\n",
    "    return lista\n",
    "\n",
    "atores(CineUM)\n",
    "    \n",
    "# Resultado esperado: ['Ben Stiller', 'Billy Crystal', 'Blythe Danner', 'Charlize Theron', 'Cuba Gooding, Jr.', 'Lisa Kudrow', 'Owen Wilson', 'Robert De Niro', 'Teri Polo']"
   ]
  },
  {
   "cell_type": "markdown",
   "id": "12f9126b",
   "metadata": {},
   "source": [
    "### tpc2.b)  Devolve uma lista de todos os títulos dos filmes, em ordem alfabética, e de um determinado género passado como argumento:"
   ]
  },
  {
   "cell_type": "code",
   "execution_count": null,
   "id": "d9dfe30a",
   "metadata": {},
   "outputs": [],
   "source": [
    "def listarPorGenero(cinemateca, genero):\n",
    "     l=[]\n",
    "     if genero in Filme1[3]:\n",
    "         l.append(Filme1[0])\n",
    "        \n",
    "     if genero in Filme2[3]:\n",
    "         l.append(Filme2[0])\n",
    "    \n",
    "     if genero in Filme3[3]:\n",
    "         l.append(Filme3[0])\n",
    "    \n",
    "\n",
    "    \n",
    "     for i in range(0,len(l)):\n",
    "         for j in range(0, len(l)):\n",
    "             if l[j] > l[i]:\n",
    "                 temp= l[i]\n",
    "                 l[i]= l[j]\n",
    "                 l[j]= temp\n",
    "     return l\n",
    "listarPorGenero(CineUM,\"Comedy\")\n",
    "\n",
    "\n",
    "  \n",
    "# Resultado esperado: ['Analyze That', 'Meet the Parents']"
   ]
  },
  {
   "cell_type": "markdown",
   "id": "1a0f760b",
   "metadata": {},
   "source": [
    "### tpc2.c)  Devolve o título do filme com o maior elenco:"
   ]
  },
  {
   "cell_type": "code",
   "execution_count": null,
   "id": "a00c85e3",
   "metadata": {},
   "outputs": [],
   "source": [
    "def maiorElenco( cinemateca ):\n",
    "     if len(Filme1[2]) > len(Filme2[2]) and len(Filme1[2]) > len(Filme3[2]): \n",
    "    \n",
    "         return Filme1[0]\n",
    "    \n",
    "     elif len(Filme2[2]) > len(Filme1[2]) and len(Filme2[2]) > len(Filme3[2]):\n",
    "         return Filme2[0]\n",
    "    \n",
    "    \n",
    "     else: \n",
    "\n",
    "         return Filme3[0]\n",
    "\n",
    "maiorElenco(CineUM)\n",
    "    \n",
    "   \n",
    "# Resultado esperado: Meet the Parents"
   ]
  },
  {
   "cell_type": "markdown",
   "id": "65061d0a",
   "metadata": {},
   "source": [
    "### tpc2.d)  Calcula a distribuição de filmes por Género:"
   ]
  },
  {
   "cell_type": "code",
   "execution_count": null,
   "id": "dc1adabc",
   "metadata": {},
   "outputs": [],
   "source": [
    "def filmePorGenero( cinemateca ):\n",
    "    dici={}\n",
    "    comedy=0\n",
    "    drama=0\n",
    "    biography=0\n",
    "    thriller=0\n",
    "    lista1= Filme1[3]\n",
    "    lista2= Filme2[3]\n",
    "    lista3= Filme3[3]\n",
    "    lista= lista1 + lista2 + lista3\n",
    "    \n",
    "    \n",
    "    for j in lista:\n",
    "        if j== \"Comedy\":\n",
    "            comedy +=1\n",
    "        \n",
    "        elif j== \"Drama\":\n",
    "            drama +=1\n",
    "            \n",
    "        elif j == \"Thriller\":\n",
    "            thriller +=1\n",
    "            \n",
    "        elif j==\"Biography\":\n",
    "            biography +=1\n",
    "    \n",
    "    dici[\"Comedy\"]= comedy\n",
    "    dici[\"Drama\"]= drama\n",
    "    dici[\"Thriller\"]= thriller\n",
    "    dici[\"Biography\"]= biography\n",
    "    \n",
    "    return dici\n",
    "\n",
    "filmePorGenero(CineUM)\n",
    "\n"
   ]
  },
  {
   "cell_type": "markdown",
   "id": "de46a635",
   "metadata": {},
   "source": [
    "### tpc2.e)  Represente num gráfico de barras a distribuição calculada na alínea anterior (pode usar o material que entender das aulas):"
   ]
  },
  {
   "cell_type": "code",
   "execution_count": null,
   "id": "4118730d",
   "metadata": {},
   "outputs": [],
   "source": [
    "def grafico(CineUM):\n",
    "    dici= filmePorGenero(CineUM)\n",
    "    genero=dici.keys()\n",
    "    numero = dici.values()\n",
    "    \n",
    "    plt.bar(genero,numero)\n",
    "    \n",
    "    plt.xlabel('genero')\n",
    "\n",
    "    plt.ylabel('numero')\n",
    "    \n",
    "    plt.title(\"Distribuicao dos filmes por genero\")\n",
    "        \n",
    "    plt.show()\n",
    "\n",
    "grafico(CineUM)\n",
    "    \n",
    "    "
   ]
  },
  {
   "cell_type": "code",
   "execution_count": null,
   "id": "7fe92c90",
   "metadata": {},
   "outputs": [],
   "source": []
  }
 ],
 "metadata": {
  "kernelspec": {
   "display_name": "Python 3.9.1 64-bit",
   "language": "python",
   "name": "python3"
  },
  "language_info": {
   "codemirror_mode": {
    "name": "ipython",
    "version": 3
   },
   "file_extension": ".py",
   "mimetype": "text/x-python",
   "name": "python",
   "nbconvert_exporter": "python",
   "pygments_lexer": "ipython3",
   "version": "3.9.4"
  },
  "vscode": {
   "interpreter": {
    "hash": "aee8b7b246df8f9039afb4144a1f6fd8d2ca17a180786b69acc140d282b71a49"
   }
  }
 },
 "nbformat": 4,
 "nbformat_minor": 5
}
